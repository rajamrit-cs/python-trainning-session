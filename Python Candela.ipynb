{
 "cells": [
  {
   "cell_type": "markdown",
   "id": "c7dcf398",
   "metadata": {},
   "source": [
    "![Candela Logo](https://www.candelatech.com/images/CandelaLogo_top_corner.svg)\n",
    "\n",
    "                                                                                       Ⓒ Candela Technologies"
   ]
  },
  {
   "cell_type": "markdown",
   "id": "7cc9ffa2",
   "metadata": {},
   "source": [
    "# <<====================== Session 01 =========================>>"
   ]
  },
  {
   "cell_type": "markdown",
   "id": "acc8e665",
   "metadata": {},
   "source": [
    "# What is Python ?"
   ]
  },
  {
   "cell_type": "markdown",
   "id": "a1c09e2c",
   "metadata": {},
   "source": [
    "### Python is a simple, general purpose, high level, and object-oriented programming language."
   ]
  },
  {
   "cell_type": "markdown",
   "id": "245e7e83",
   "metadata": {},
   "source": [
    "Python is a general purpose, dynamic, high-level, and interpreted programming language. It supports Object Oriented programming approach to develop applications. It is simple and easy to learn and provides lots of high-level data structures."
   ]
  },
  {
   "cell_type": "code",
   "execution_count": 23,
   "id": "ea3bacd3",
   "metadata": {},
   "outputs": [
    {
     "ename": "SyntaxError",
     "evalue": "Missing parentheses in call to 'print'. Did you mean print(\"Candela\")? (4042313190.py, line 1)",
     "output_type": "error",
     "traceback": [
      "\u001b[0;36m  File \u001b[0;32m\"/tmp/ipykernel_14458/4042313190.py\"\u001b[0;36m, line \u001b[0;32m1\u001b[0m\n\u001b[0;31m    print \"Candela\"\u001b[0m\n\u001b[0m          ^\u001b[0m\n\u001b[0;31mSyntaxError\u001b[0m\u001b[0;31m:\u001b[0m Missing parentheses in call to 'print'. Did you mean print(\"Candela\")?\n"
     ]
    }
   ],
   "source": [
    "print \"Candela\""
   ]
  },
  {
   "cell_type": "code",
   "execution_count": null,
   "id": "eacd799d",
   "metadata": {},
   "outputs": [],
   "source": []
  },
  {
   "cell_type": "code",
   "execution_count": null,
   "id": "ae924be9",
   "metadata": {},
   "outputs": [],
   "source": []
  },
  {
   "cell_type": "markdown",
   "id": "6d408ee7",
   "metadata": {},
   "source": [
    "## Python Versions:\n",
    "* Python 1.0V introduced in Jan 1994\n",
    "* Python 2.0V introduced in October 2000\n",
    "* Python 3.0V introduced in December 2008"
   ]
  },
  {
   "cell_type": "markdown",
   "id": "42bc58c1",
   "metadata": {},
   "source": [
    "# Python 2 vs. Python 3 \n",
    "\n",
    "A list of differences between Python 2 and Python 3 are given below:\n",
    "    \n",
    "    \n",
    "   **1.**    **Python 2** uses print as a statement and used as ***print \"something\"*** to print some string on the console. On the other hand, **Python 3** uses print as a function and used as ***print(\"something\")*** to print something on the console.\n",
    "\n",
    "   **2.**    **Python 2** uses the function ***raw_input()*** to accept the user's input. It returns the string representing the value, which is typed by the user. To convert it into the integer, we need to use the int() function in Python. On the other hand, **Python 3** uses ***input()*** function which automatically interpreted the type of input entered by the user. However, we can cast this value to any type by using primitive functions (int(), str(), etc.).\n",
    "\n",
    "   **3.**    In **Python 2**, the implicit string type is ASCII, whereas, in **Python 3**, the implicit string type is Unicode.\n",
    "\n",
    "   **4.**    **Python 3** doesn't contain the ***xrange()*** function of **Python 2**. The xrange() is the variant of range() function which returns a xrange object that works similar to Java iterator. The ***range()*** returns a list for example the function range(0,3) contains 0, 1, 2.\n",
    "\n",
    "   **5.**    There is also a small change made in Exception handling in **Python 3**. It defines a keyword as which is necessary to be used. We will discuss it in Exception handling section.\n"
   ]
  },
  {
   "cell_type": "markdown",
   "id": "9012050b",
   "metadata": {},
   "source": [
    "# Python History"
   ]
  },
  {
   "cell_type": "markdown",
   "id": "5092e009",
   "metadata": {},
   "source": [
    "Python was invented by  **Guido van Rossum** in 1991 at CWI in Netherland. The idea of Python programming language has taken from the ***ABC programming language*** or we can say that ABC is a predecessor of Python language. \n",
    "There is also a fact behind the choosing name Python. Guido van Rossum was a fan of the popular BBC comedy show of that time, \"Monty Python's Flying Circus\". So he decided to pick the name Python for his newly created programming language."
   ]
  },
  {
   "cell_type": "code",
   "execution_count": null,
   "id": "15e821d3",
   "metadata": {},
   "outputs": [],
   "source": []
  },
  {
   "cell_type": "markdown",
   "id": "ea74d04c",
   "metadata": {},
   "source": [
    "# Install Jupiter Notebook and Python\n",
    "[How to Install Jupiter Notebook](https://linuxhint.com/install-jupyter-notebook-on-ubuntu-20-04/)\n",
    "\n",
    "[Install Python on Ubuntu](https://docs.python-guide.org/starting/install3/linux/)\n",
    "\n",
    "[Install Python on Windows](https://www.python.org/downloads/)"
   ]
  },
  {
   "cell_type": "markdown",
   "id": "36a5ee65",
   "metadata": {},
   "source": [
    "# Features of Python"
   ]
  },
  {
   "cell_type": "markdown",
   "id": "ec0c5981",
   "metadata": {},
   "source": [
    "### 1. Simple and easy to learn:\n",
    "* Python is a simple programming language. When we read Python program,we can fee like reading english statements\n",
    "* The syntaxes are very simple and only 30+ kerywords are available.\n",
    "* When compared with other languages, we can write programs with very less number of lines. Hence more readability and simplicity\n",
    "* We can reduce development and cost of the project.\n",
    "\n",
    "### 2. Freeware and Open Source:\n",
    "* We can use Python software without any licence and it is freeware.\n",
    "* Its source code is open,so that we can we can customize based on our requirement.\n",
    "* Eg: Jython is customized version of Python to work with Java Applications. \n",
    "\n",
    "### 3. High Level Programming language:\n",
    "* Python is high level programming language and hence it is programmer friendly language.\n",
    "* Being a programmer we are not required to concentrate low level activities like memory management and security etc.\n",
    "\n",
    "### 4. Platform Independent:\n",
    "* Once we write a Python program,it can run on any platform without rewriting once again.\n",
    "* Internally PVM is responsible to convert into machine understandable form.\n",
    "\n",
    "### 5. Portability:\n",
    "* Python programs are portable. ie we can migrate from one platform to another\n",
    "* platform very easily. Python programs will provide same results on any paltform\n",
    "\n",
    "### 6. Dynamically Typed:\n",
    "* In Python we are not required to declare type for variables. Whenever we are assigning the value, based on value, type will be allocated automatically.Hence Python is considered as dynamically typed language.\n",
    "* But Java, C etc are Statically Typed Languages b'z we have to provide type at the beginning only.\n",
    "* This dynamic typing nature will provide more flexibility to the programmer\n",
    "\n",
    "### 7. Both Procedure Oriented and Object Oriented:\n",
    "* Python language supports both Procedure oriented (like C, pascal etc) and object oriented (like C++, Java) features. Hence we can get benefits of both like security and reusability etc\n",
    "\n",
    "### 8. Interpreted:\n",
    "* We are not required to compile Python programs explcitly. Internally Python interpreter will take care that compilation.\n",
    "* If compilation fails interpreter raised syntax errors. Once compilation success then PVM (Python Virtual Machine) is responsible to execute.\n",
    "\n",
    "### 9. Extensible:\n",
    "* We can use other language programs in Python.\n",
    "* The main advantages of this approach are:\n",
    "* We can use already existing legacy non-Python code\n",
    "* We can improve performance of the application\n",
    "\n",
    "### 10. Embedded:\n",
    "* We can use Python programs in any other language programs.\n",
    "* i.e we can embedd Python programs anywhere.\n",
    "\n",
    "### 11. Extensive Library:\n",
    "* Python has a rich inbuilt library.\n",
    "* Being a programmer we can use this library directly and we are not responsible to implement the functionality. Etc."
   ]
  },
  {
   "cell_type": "code",
   "execution_count": null,
   "id": "63137cee",
   "metadata": {},
   "outputs": [],
   "source": []
  },
  {
   "cell_type": "markdown",
   "id": "b5ecc9af",
   "metadata": {},
   "source": [
    "# Limitations of Python:\n",
    "* Performance wise not up to the mark because it is interpreted language.\n",
    "* Not using for mobile Applications."
   ]
  },
  {
   "cell_type": "markdown",
   "id": "97314be0",
   "metadata": {},
   "source": [
    "# Flavors of Python:\n",
    "1. CPython:\n",
    "    It is the standard flavor of Python. It can be used to work with C lanugage Applications.\n",
    "    \n",
    "2. Jython OR JPython:\n",
    "    It is for Java Applications. It can run on JVM\n",
    "    \n",
    "3. IronPython:\n",
    "    It is for C#.Net platform\n",
    "    \n",
    "4. PyPy:\n",
    "    The main advantage of PyPy is performance will be improved because JIT compiler is available inside PVM.\n",
    "    \n",
    "5. RubyPython\n",
    "    For Ruby Platforms\n",
    "    \n",
    "6. AnacondaPython\n",
    "    It is specially designed for handling large volume of data processing."
   ]
  },
  {
   "cell_type": "markdown",
   "id": "efc5f6c9",
   "metadata": {},
   "source": [
    "# Let's Start Coding"
   ]
  },
  {
   "cell_type": "code",
   "execution_count": 17,
   "id": "6d8d2082",
   "metadata": {
    "scrolled": true
   },
   "outputs": [
    {
     "name": "stdout",
     "output_type": "stream",
     "text": [
      "Hello World!\n"
     ]
    }
   ],
   "source": [
    "print(\"Hello World!\")"
   ]
  },
  {
   "cell_type": "markdown",
   "id": "e3275a50",
   "metadata": {},
   "source": [
    "# Let's Decode Python print() Function"
   ]
  },
  {
   "cell_type": "markdown",
   "id": "8fe39631",
   "metadata": {},
   "source": [
    "### The print() function displays the given object to the standard output device (screen) or to the text stream file.\n",
    "\n",
    "### Unlike the other programming languages, Python print() function is most unique and versatile function.\n",
    "\n",
    "The syntax of print() function is given below."
   ]
  },
  {
   "cell_type": "code",
   "execution_count": 45,
   "id": "26397bfe",
   "metadata": {
    "scrolled": true
   },
   "outputs": [
    {
     "name": "stdout",
     "output_type": "stream",
     "text": [
      "objectsend"
     ]
    }
   ],
   "source": [
    "print(\"objects\", sep='==>', end='end', file=sys.stdout, flush=False)  "
   ]
  },
  {
   "cell_type": "code",
   "execution_count": 31,
   "id": "6cfa5c24",
   "metadata": {
    "scrolled": false
   },
   "outputs": [
    {
     "name": "stdout",
     "output_type": "stream",
     "text": [
      "Candela==>technologies==>1==>2==>4@"
     ]
    }
   ],
   "source": [
    "print(\"Candela\", \"Technologies\", \"1\", \"2\", \"4\", sep=\"==>\", end=\"@\", flush=True)"
   ]
  },
  {
   "cell_type": "code",
   "execution_count": 32,
   "id": "18a22d11",
   "metadata": {},
   "outputs": [],
   "source": [
    "def add(x,y):\n",
    "    return x+y"
   ]
  },
  {
   "cell_type": "code",
   "execution_count": null,
   "id": "d661d250",
   "metadata": {},
   "outputs": [],
   "source": [
    "add(2,5)"
   ]
  },
  {
   "cell_type": "markdown",
   "id": "02e38e0f",
   "metadata": {},
   "source": [
    "* **objects** - An object is nothing but a statement that to be printed.The * sign represents that there can be multiple statements.\n",
    "\n",
    "* **sep** - The sep parameter separates the print values. Default values is ' '.\n",
    "\n",
    "* **end** - The end is printed at last in the statement.\n",
    "\n",
    "* **file** - It must be an object with a write(string) method.\n",
    "\n",
    "* **flush** - The stream or file is forcibly flushed if it is true. By default, its value is false.\n",
    "\n",
    "### Examples:\n"
   ]
  },
  {
   "cell_type": "code",
   "execution_count": null,
   "id": "b6a667f2",
   "metadata": {},
   "outputs": [],
   "source": [
    "c = \"Candela\"\n",
    "i = 10\n",
    "print(c)"
   ]
  },
  {
   "cell_type": "markdown",
   "id": "7ed5049e",
   "metadata": {},
   "source": [
    "# Python Indentation"
   ]
  },
  {
   "cell_type": "markdown",
   "id": "2464e5c6",
   "metadata": {},
   "source": [
    "Python indentation uses to define the block of the code. The other programming languages such as C, C++, and Java use curly braces {}, whereas Python uses an indentation. Whitespaces are used as indentation in Python.\n",
    "\n",
    "Indentation uses at the beginning of the code and ends with the unintended line. That same line indentation defines the block of the code (body of a function, loop, etc.)\n",
    "\n",
    "Generally, four whitespaces are used as the indentation. The amount of indentation depends on user, but it must be consistent throughout that block."
   ]
  },
  {
   "cell_type": "code",
   "execution_count": 35,
   "id": "4d99e7cc",
   "metadata": {
    "scrolled": true
   },
   "outputs": [
    {
     "name": "stdout",
     "output_type": "stream",
     "text": [
      "0\n",
      "1\n",
      "2\n",
      "3\n",
      "4\n"
     ]
    }
   ],
   "source": [
    "for i in range(5):\n",
    "    print(i)"
   ]
  },
  {
   "cell_type": "code",
   "execution_count": 39,
   "id": "b5d4dd2d",
   "metadata": {
    "scrolled": true
   },
   "outputs": [
    {
     "name": "stdout",
     "output_type": "stream",
     "text": [
      "Enter the number:4\n",
      "Even Number\n",
      "\n",
      "Task Complete\n"
     ]
    }
   ],
   "source": [
    "n = int(input(\"Enter the number:\"))\n",
    "\n",
    "if(n%2 == 0):  \n",
    "    print(\"Even Number\")  \n",
    "    print(\"\")\n",
    "else:\n",
    "    print(\"Odd Number\") \n",
    "     \n",
    "print(\"Task Complete\")"
   ]
  },
  {
   "cell_type": "code",
   "execution_count": null,
   "id": "7a9e2d77",
   "metadata": {},
   "outputs": [],
   "source": [
    "if 5 > 2: \n",
    "    print(\"Five is greater than two!\")"
   ]
  },
  {
   "cell_type": "markdown",
   "id": "87439b86",
   "metadata": {},
   "source": [
    "# Python Comments"
   ]
  },
  {
   "cell_type": "code",
   "execution_count": null,
   "id": "35f21972",
   "metadata": {},
   "outputs": [],
   "source": [
    "# This is a comment\n",
    "# more than just one line\n",
    "print(\"Hello, Candela!\") #This is a comment "
   ]
  },
  {
   "cell_type": "code",
   "execution_count": null,
   "id": "fe3f326b",
   "metadata": {},
   "outputs": [],
   "source": [
    "\"\"\"\n",
    "This is a comment\n",
    "written in\n",
    "more than just one line\n",
    "\"\"\"\n",
    "print(\"Hello, Candela!\")"
   ]
  },
  {
   "cell_type": "code",
   "execution_count": null,
   "id": "4a86656d",
   "metadata": {},
   "outputs": [],
   "source": []
  },
  {
   "cell_type": "code",
   "execution_count": null,
   "id": "ace860cf",
   "metadata": {},
   "outputs": [],
   "source": []
  },
  {
   "cell_type": "markdown",
   "id": "a644520a",
   "metadata": {},
   "source": [
    "# <<====================== Session 02 =========================>>"
   ]
  },
  {
   "cell_type": "markdown",
   "id": "e74c06bc",
   "metadata": {},
   "source": [
    "# Taking Input to the User"
   ]
  },
  {
   "cell_type": "markdown",
   "id": "b98b2454",
   "metadata": {},
   "source": [
    "Python provides the ***input()*** function which is used to take input from the user. \n",
    "\n",
    "Let's understand the following example."
   ]
  },
  {
   "cell_type": "code",
   "execution_count": null,
   "id": "40ee5414",
   "metadata": {},
   "outputs": [],
   "source": []
  },
  {
   "cell_type": "code",
   "execution_count": 12,
   "id": "bceca687",
   "metadata": {
    "scrolled": false
   },
   "outputs": [
    {
     "name": "stdout",
     "output_type": "stream",
     "text": [
      "Candela office Address: Amrit\n"
     ]
    },
    {
     "data": {
      "text/plain": [
       "'Amrit'"
      ]
     },
     "execution_count": 12,
     "metadata": {},
     "output_type": "execute_result"
    }
   ],
   "source": [
    "input(\"Candela office Address: \")"
   ]
  },
  {
   "cell_type": "code",
   "execution_count": null,
   "id": "121cb6f4",
   "metadata": {},
   "outputs": [],
   "source": []
  },
  {
   "cell_type": "code",
   "execution_count": 13,
   "id": "aec96bbc",
   "metadata": {
    "scrolled": true
   },
   "outputs": [
    {
     "name": "stdout",
     "output_type": "stream",
     "text": [
      "Enter something:a\n",
      "a\n"
     ]
    }
   ],
   "source": [
    "print(input(\"Enter something:\"))"
   ]
  },
  {
   "cell_type": "markdown",
   "id": "6875b5fe",
   "metadata": {},
   "source": [
    "\n",
    "# type() \n",
    "Gives us the details that what is the type of the input provided to this function.  \n",
    "\n",
    "# id()\n",
    "Gives us the details of the pointer it is pointing to.\n",
    "\n",
    "# len()\n",
    "Gives us the lenght of the input provided to this function."
   ]
  },
  {
   "cell_type": "markdown",
   "id": "6c3c1fd2",
   "metadata": {},
   "source": [
    "### How to check the type of variable"
   ]
  },
  {
   "cell_type": "code",
   "execution_count": 6,
   "id": "d979cfbf",
   "metadata": {},
   "outputs": [],
   "source": [
    "# Example of type and id\n",
    "\"Candela\"\n",
    "'Candela'\n",
    "'''\n",
    "This is \n",
    "multiline \n",
    "String'''"
   ]
  },
  {
   "cell_type": "code",
   "execution_count": 49,
   "id": "aec5bcff",
   "metadata": {
    "scrolled": true
   },
   "outputs": [
    {
     "name": "stdout",
     "output_type": "stream",
     "text": [
      "<class 'int'>\n",
      "<class 'str'>\n",
      "<class 'list'>\n",
      "<class 'dict'>\n"
     ]
    }
   ],
   "source": [
    "var1 = 1\n",
    "var2 = \"1\"\n",
    "lst = [1,2,3,4]\n",
    "dictionary = {\"1\": \"One\"}\n",
    "\n",
    "print(type(var1))\n",
    "print(type(var2))\n",
    "print(type(lst))\n",
    "print(type(dictionary))\n",
    "# \n",
    "# print(var1, var2)"
   ]
  },
  {
   "cell_type": "code",
   "execution_count": 46,
   "id": "6771cec6",
   "metadata": {},
   "outputs": [],
   "source": [
    "var = \"Candela\"\n",
    "var_c = \"Candela\""
   ]
  },
  {
   "cell_type": "code",
   "execution_count": 47,
   "id": "3df5b759",
   "metadata": {
    "scrolled": false
   },
   "outputs": [
    {
     "name": "stdout",
     "output_type": "stream",
     "text": [
      "Pointer it is pointing to ==> 140296754138480\n",
      "Pointer it is pointing to ==> 140296754138480\n"
     ]
    }
   ],
   "source": [
    "var_id1 = id(var)\n",
    "var_id2 = id(var_c)\n",
    "\n",
    "print(\"Pointer it is pointing to ==>\", var_id1)\n",
    "print(\"Pointer it is pointing to ==>\", var_id2)"
   ]
  },
  {
   "cell_type": "code",
   "execution_count": null,
   "id": "0c33369b",
   "metadata": {},
   "outputs": [],
   "source": []
  },
  {
   "cell_type": "code",
   "execution_count": null,
   "id": "bd51b624",
   "metadata": {},
   "outputs": [],
   "source": []
  },
  {
   "cell_type": "code",
   "execution_count": 54,
   "id": "0c530f48",
   "metadata": {
    "scrolled": false
   },
   "outputs": [
    {
     "name": "stdout",
     "output_type": "stream",
     "text": [
      "Enter Input   AA  \n",
      "Input Lenght is  6\n"
     ]
    }
   ],
   "source": [
    "x = input(\"Enter Input \")\n",
    "print(\"Input Lenght is \", len(x))"
   ]
  },
  {
   "cell_type": "markdown",
   "id": "faffc41a",
   "metadata": {},
   "source": [
    "## Typecasting"
   ]
  },
  {
   "cell_type": "code",
   "execution_count": 86,
   "id": "cea0b2b7",
   "metadata": {},
   "outputs": [
    {
     "name": "stdout",
     "output_type": "stream",
     "text": [
      "['1', 2.3, 3, '4']\n"
     ]
    }
   ],
   "source": [
    "lst = [\"1\", 2.3, 3,\"4\"]\n",
    "print(lst)\n"
   ]
  },
  {
   "cell_type": "code",
   "execution_count": 92,
   "id": "4d727ef2",
   "metadata": {
    "scrolled": true
   },
   "outputs": [
    {
     "name": "stdout",
     "output_type": "stream",
     "text": [
      "1\n",
      "2\n",
      "3\n",
      "4\n"
     ]
    }
   ],
   "source": [
    "for items in lst:\n",
    "    x = int(items)\n",
    "    print(x)\n"
   ]
  },
  {
   "cell_type": "code",
   "execution_count": 75,
   "id": "863e430f",
   "metadata": {
    "scrolled": true
   },
   "outputs": [
    {
     "name": "stdout",
     "output_type": "stream",
     "text": [
      "2 20\n"
     ]
    }
   ],
   "source": [
    "num1 = 2\n",
    "num2 = \"20\"\n",
    "print(num1, num2)"
   ]
  },
  {
   "cell_type": "code",
   "execution_count": 76,
   "id": "96ed3fe9",
   "metadata": {
    "scrolled": false
   },
   "outputs": [
    {
     "name": "stdout",
     "output_type": "stream",
     "text": [
      "20\n"
     ]
    },
    {
     "data": {
      "text/plain": [
       "int"
      ]
     },
     "execution_count": 76,
     "metadata": {},
     "output_type": "execute_result"
    }
   ],
   "source": [
    "x = int(num2)\n",
    "print(x)\n",
    "type(x)"
   ]
  },
  {
   "cell_type": "code",
   "execution_count": 96,
   "id": "5531eb5a",
   "metadata": {
    "scrolled": true
   },
   "outputs": [
    {
     "ename": "SyntaxError",
     "evalue": "invalid syntax (1665013234.py, line 1)",
     "output_type": "error",
     "traceback": [
      "\u001b[0;36m  File \u001b[0;32m\"/tmp/ipykernel_35332/1665013234.py\"\u001b[0;36m, line \u001b[0;32m1\u001b[0m\n\u001b[0;31m    1x_1 = int(\"3\")\u001b[0m\n\u001b[0m     ^\u001b[0m\n\u001b[0;31mSyntaxError\u001b[0m\u001b[0;31m:\u001b[0m invalid syntax\n"
     ]
    }
   ],
   "source": [
    "x_1 = int(\"3\")\n",
    "print(x)"
   ]
  },
  {
   "cell_type": "code",
   "execution_count": null,
   "id": "41524a18",
   "metadata": {},
   "outputs": [],
   "source": []
  },
  {
   "cell_type": "markdown",
   "id": "44f3aee7",
   "metadata": {},
   "source": [
    "# Python Variables"
   ]
  },
  {
   "cell_type": "markdown",
   "id": "1c9f5db8",
   "metadata": {},
   "source": [
    "Variable is a name that is used to refer to memory location. Python variable is also known as an identifier and used to hold value.\n",
    "\n",
    "Variable names can be a group of both the letters and digits, but they have to begin with a letter or an underscore.\n",
    "\n",
    "It is recommended to use lowercase letters for the variable name. **Candela** and **candela** both are two different variables."
   ]
  },
  {
   "cell_type": "markdown",
   "id": "25bc8182",
   "metadata": {},
   "source": [
    "Keywords are the reserved words in Python. We cannot use a keyword as a variable name, function name or any other identifier."
   ]
  },
  {
   "cell_type": "code",
   "execution_count": 100,
   "id": "401dfa08",
   "metadata": {},
   "outputs": [
    {
     "ename": "SyntaxError",
     "evalue": "invalid syntax (2451006868.py, line 1)",
     "output_type": "error",
     "traceback": [
      "\u001b[0;36m  File \u001b[0;32m\"/tmp/ipykernel_35332/2451006868.py\"\u001b[0;36m, line \u001b[0;32m1\u001b[0m\n\u001b[0;31m    for = \"Candela Technologies\"\u001b[0m\n\u001b[0m        ^\u001b[0m\n\u001b[0;31mSyntaxError\u001b[0m\u001b[0;31m:\u001b[0m invalid syntax\n"
     ]
    }
   ],
   "source": [
    "for = \"Candela Technologies\""
   ]
  },
  {
   "cell_type": "markdown",
   "id": "324d3c1f",
   "metadata": {},
   "source": [
    "Variables are the example of identifiers. An Identifier is used to identify the literals used in the program. The rules to name an identifier are given below.\n",
    "\n",
    "   * The first character of the variable must be an alphabet or underscore ( _ ).\n",
    "   * All the characters except the first character may be an alphabet of lower-case(a-z), upper-case (A-Z), underscore, or digit (0-9).\n",
    "   * Identifier name must not contain any white-space, or special character (!, @, #, %, ^, &, *).\n",
    "   * Identifier name must not be similar to any keyword defined in the language.\n",
    "   * Identifier names are case sensitive; for example, name, and Name is not the same.\n"
   ]
  },
  {
   "cell_type": "code",
   "execution_count": 102,
   "id": "86c8a435",
   "metadata": {
    "scrolled": true
   },
   "outputs": [
    {
     "name": "stdout",
     "output_type": "stream",
     "text": [
      "A B C D E D E F G F I\n"
     ]
    }
   ],
   "source": [
    "# Examples of Variables\n",
    "name = \"A\"  \n",
    "Name = \"B\"  \n",
    "naMe = \"C\"  \n",
    "NAME = \"D\"  \n",
    "n_a_m_e = \"E\"  \n",
    "_name = \"F\"  \n",
    "name_ = \"G\"  \n",
    "_name_ = \"H\"  \n",
    "na56me = \"I\"  \n",
    "print(name,Name,naMe,NAME,n_a_m_e, NAME, n_a_m_e, _name, name_,_name, na56me)  "
   ]
  },
  {
   "cell_type": "code",
   "execution_count": 2,
   "id": "825d9d25",
   "metadata": {
    "scrolled": false
   },
   "outputs": [
    {
     "ename": "SyntaxError",
     "evalue": "invalid syntax (1640535027.py, line 2)",
     "output_type": "error",
     "traceback": [
      "\u001b[0;36m  File \u001b[0;32m\"/tmp/ipykernel_127784/1640535027.py\"\u001b[0;36m, line \u001b[0;32m2\u001b[0m\n\u001b[0;31m    1name = \"candela\"\u001b[0m\n\u001b[0m    ^\u001b[0m\n\u001b[0;31mSyntaxError\u001b[0m\u001b[0;31m:\u001b[0m invalid syntax\n"
     ]
    }
   ],
   "source": [
    "name(_ = \"candela\"\n",
    "1name = \"candela\"\n"
   ]
  },
  {
   "cell_type": "code",
   "execution_count": 108,
   "id": "e236a83d",
   "metadata": {},
   "outputs": [],
   "source": [
    "_name_ = \"Candela\""
   ]
  },
  {
   "cell_type": "code",
   "execution_count": 109,
   "id": "f78a1b5e",
   "metadata": {},
   "outputs": [
    {
     "name": "stdout",
     "output_type": "stream",
     "text": [
      "5\n",
      "5\n",
      "5\n"
     ]
    }
   ],
   "source": [
    "x=y=z=5\n",
    "print(x)    \n",
    "print(y)    \n",
    "print(z)"
   ]
  },
  {
   "cell_type": "code",
   "execution_count": 115,
   "id": "8acb7c5f",
   "metadata": {
    "scrolled": false
   },
   "outputs": [
    {
     "name": "stdout",
     "output_type": "stream",
     "text": [
      "5\n",
      "10\n",
      "15\n"
     ]
    }
   ],
   "source": [
    "a,b,c,d = 5,10,15,12\n",
    "print(a)\n",
    "print(b)    \n",
    "print(c)"
   ]
  },
  {
   "cell_type": "markdown",
   "id": "048f4f79",
   "metadata": {},
   "source": [
    "# <<====================== Session 03 =========================>>"
   ]
  },
  {
   "cell_type": "markdown",
   "id": "7160cec9",
   "metadata": {},
   "source": [
    "## Missing topic for previous Sessions"
   ]
  },
  {
   "cell_type": "markdown",
   "id": "cbcc90cb",
   "metadata": {},
   "source": [
    "# Output Formatting"
   ]
  },
  {
   "cell_type": "code",
   "execution_count": 22,
   "id": "ba17631a",
   "metadata": {
    "scrolled": true
   },
   "outputs": [
    {
     "name": "stdout",
     "output_type": "stream",
     "text": [
      "The value of a is 10 and b is 20\n",
      "The value of b is 20 and a is 10\n",
      "Hello satish, Good Morning\n"
     ]
    }
   ],
   "source": [
    "\n",
    "a = 10; b = 20 #multiple statements in single line.\n",
    "\n",
    "print(\"The value of a is {} and b is {}\".format(a, b))    #default\n",
    "\n",
    "\n",
    "a = 10; b = 20  #multiple statements in single line\n",
    "\n",
    "print(\"The value of b is {1} and a is {0}\".format(a, b)) #specify position of arguments\n",
    "\n",
    "\n",
    "#we can use keyword arguments to format the string\n",
    "print(\"Hello {name}, {greeting}\".format(name=\"satish\", greeting=\"Good Morning\"))\n"
   ]
  },
  {
   "cell_type": "code",
   "execution_count": 23,
   "id": "7d623271",
   "metadata": {},
   "outputs": [
    {
     "name": "stdout",
     "output_type": "stream",
     "text": [
      "My name is Candela, I'm 1.5 years old. \n",
      "My name is Candela, I'm 1.6 years old. \n",
      "My name is Candela, I'm 1.7 years old.\n"
     ]
    }
   ],
   "source": [
    "txt1 = \"My name is {fname}, I'm {age} years old.\".format(fname = \"Candela\", age = 1.5)\n",
    "txt2 = \"\\nMy name is {0}, I'm {1} years old.\".format(\"Candela\",1.6)\n",
    "txt3 = \"\\nMy name is {}, I'm {} years old.\".format(\"Candela\",1.7) \n",
    "print(txt1,txt2,txt3)"
   ]
  },
  {
   "cell_type": "code",
   "execution_count": 28,
   "id": "dd687472",
   "metadata": {
    "scrolled": false
   },
   "outputs": [
    {
     "name": "stdout",
     "output_type": "stream",
     "text": [
      "For only 49 dollars!\n"
     ]
    }
   ],
   "source": [
    "data = \"For only {price:.0f} dollars!\"\n",
    "\n",
    "print(data.format(price = 49.1123)) "
   ]
  },
  {
   "cell_type": "code",
   "execution_count": 20,
   "id": "c1f03109",
   "metadata": {},
   "outputs": [
    {
     "name": "stdout",
     "output_type": "stream",
     "text": [
      "Enter your Name: Candela\n",
      "Enter your Age: 1\n"
     ]
    }
   ],
   "source": [
    "name = input(\"Enter your Name: \")\n",
    "age = input(\"Enter your Age: \")"
   ]
  },
  {
   "cell_type": "code",
   "execution_count": 21,
   "id": "b4b11bf1",
   "metadata": {},
   "outputs": [
    {
     "name": "stdout",
     "output_type": "stream",
     "text": [
      "My Name is Candela and I am 1 year old\n"
     ]
    }
   ],
   "source": [
    "print(\"My Name is {name1} and I am {age1} year old\".format(name1=name, age1=age))"
   ]
  },
  {
   "cell_type": "code",
   "execution_count": 17,
   "id": "8c7e95d5",
   "metadata": {
    "scrolled": true
   },
   "outputs": [
    {
     "name": "stdout",
     "output_type": "stream",
     "text": [
      "My Name is Amrit and I am 24 year old\n"
     ]
    }
   ],
   "source": [
    "print(\"My Name is {} and I am {} year old\".format(name, age))"
   ]
  },
  {
   "cell_type": "markdown",
   "id": "adf7a74f",
   "metadata": {},
   "source": [
    "## Python Variable Types\n",
    "   * Local Variable\n",
    "   * Global Variables"
   ]
  },
  {
   "cell_type": "code",
   "execution_count": 34,
   "id": "23e37a6d",
   "metadata": {},
   "outputs": [
    {
     "name": "stdout",
     "output_type": "stream",
     "text": [
      "6\n"
     ]
    }
   ],
   "source": [
    "def name_of_the_function(arg1,arg2):\n",
    "    print(arg1+arg2)\n",
    "\n",
    "name_of_the_function(2,4)"
   ]
  },
  {
   "cell_type": "code",
   "execution_count": 35,
   "id": "ba1d0d65",
   "metadata": {},
   "outputs": [
    {
     "name": "stdout",
     "output_type": "stream",
     "text": [
      "The sum is: 50\n"
     ]
    }
   ],
   "source": [
    "def add():  \n",
    "    # Defining local variables. They has scope only within a function  \n",
    "    a = 20  \n",
    "    b = 30  \n",
    "    c = a + b  \n",
    "    print(\"The sum is:\", c)  \n",
    "\n",
    "# Calling a function \\\n",
    "\n",
    "add()\n",
    "print(a)\n",
    "\n"
   ]
  },
  {
   "cell_type": "code",
   "execution_count": 53,
   "id": "49c6ad7f",
   "metadata": {},
   "outputs": [
    {
     "name": "stdout",
     "output_type": "stream",
     "text": [
      "101\n",
      "91\n",
      "Welcome To Javatpoint\n",
      "Welcome To Javatpoint\n"
     ]
    }
   ],
   "source": [
    "# Declare a variable and initialize it  \n",
    "x = 101  \n",
    "\n",
    "# Global variable in function  \n",
    "def mainFunction():  \n",
    "    global x \n",
    "    a = x - 10\n",
    "    x = \"new Config\"\n",
    "    print(a)  \n",
    "    # modifying a global variable  \n",
    "    x = 'Welcome To Javatpoint'  \n",
    "    print(x)  \n",
    "\n",
    "print(x)\n",
    "mainFunction()  \n",
    "print(x)  "
   ]
  },
  {
   "cell_type": "markdown",
   "id": "7ffad0fe",
   "metadata": {},
   "source": [
    "## Delete a variable"
   ]
  },
  {
   "cell_type": "code",
   "execution_count": 49,
   "id": "08080218",
   "metadata": {
    "scrolled": false
   },
   "outputs": [
    {
     "ename": "NameError",
     "evalue": "name 'x' is not defined",
     "output_type": "error",
     "traceback": [
      "\u001b[0;31m---------------------------------------------------------------------------\u001b[0m",
      "\u001b[0;31mNameError\u001b[0m                                 Traceback (most recent call last)",
      "\u001b[0;32m/tmp/ipykernel_43208/3309143265.py\u001b[0m in \u001b[0;36m<module>\u001b[0;34m\u001b[0m\n\u001b[1;32m      1\u001b[0m \u001b[0mx\u001b[0m \u001b[0;34m=\u001b[0m \u001b[0;36m10\u001b[0m\u001b[0;34m\u001b[0m\u001b[0;34m\u001b[0m\u001b[0m\n\u001b[1;32m      2\u001b[0m \u001b[0;32mdel\u001b[0m \u001b[0mx\u001b[0m\u001b[0;34m\u001b[0m\u001b[0;34m\u001b[0m\u001b[0m\n\u001b[0;32m----> 3\u001b[0;31m \u001b[0mprint\u001b[0m\u001b[0;34m(\u001b[0m\u001b[0mx\u001b[0m\u001b[0;34m)\u001b[0m\u001b[0;34m\u001b[0m\u001b[0;34m\u001b[0m\u001b[0m\n\u001b[0m",
      "\u001b[0;31mNameError\u001b[0m: name 'x' is not defined"
     ]
    }
   ],
   "source": [
    "x = 10\n",
    "del x\n",
    "print(x)"
   ]
  },
  {
   "cell_type": "code",
   "execution_count": 50,
   "id": "20713d04",
   "metadata": {
    "scrolled": true
   },
   "outputs": [
    {
     "name": "stdout",
     "output_type": "stream",
     "text": [
      "6\n"
     ]
    },
    {
     "ename": "NameError",
     "evalue": "name 'x' is not defined",
     "output_type": "error",
     "traceback": [
      "\u001b[0;31m---------------------------------------------------------------------------\u001b[0m",
      "\u001b[0;31mNameError\u001b[0m                                 Traceback (most recent call last)",
      "\u001b[0;32m/tmp/ipykernel_43208/3748117785.py\u001b[0m in \u001b[0;36m<module>\u001b[0;34m\u001b[0m\n\u001b[1;32m      4\u001b[0m \u001b[0;31m# deleting a variable.\u001b[0m\u001b[0;34m\u001b[0m\u001b[0;34m\u001b[0m\u001b[0;34m\u001b[0m\u001b[0m\n\u001b[1;32m      5\u001b[0m \u001b[0;32mdel\u001b[0m \u001b[0mx\u001b[0m\u001b[0;34m\u001b[0m\u001b[0;34m\u001b[0m\u001b[0m\n\u001b[0;32m----> 6\u001b[0;31m \u001b[0mprint\u001b[0m\u001b[0;34m(\u001b[0m\u001b[0mx\u001b[0m\u001b[0;34m)\u001b[0m\u001b[0;34m\u001b[0m\u001b[0;34m\u001b[0m\u001b[0m\n\u001b[0m",
      "\u001b[0;31mNameError\u001b[0m: name 'x' is not defined"
     ]
    }
   ],
   "source": [
    "# Assigning a value to x  \n",
    "x = 6  \n",
    "print(x)  \n",
    "# deleting a variable.   \n",
    "del x\n",
    "print(x)  "
   ]
  },
  {
   "cell_type": "markdown",
   "id": "c934ece2",
   "metadata": {},
   "source": [
    "## Print Single and Multiple Variables in Python"
   ]
  },
  {
   "cell_type": "code",
   "execution_count": 55,
   "id": "85a40189",
   "metadata": {},
   "outputs": [
    {
     "name": "stdout",
     "output_type": "stream",
     "text": [
      "5 6\n",
      "1 2 3 4 5 6 7 8\n",
      "Candela tech Address\n"
     ]
    }
   ],
   "source": [
    "a = 5  \n",
    "b = 6  \n",
    "# printing multiple variables  \n",
    "print(a,b)  \n",
    "# separate the variables by the comma  \n",
    "print(1, 2, 3, 4, 5, 6, 7, 8)   \n",
    "print(\"Candela\", \"tech\", \"Address\")"
   ]
  },
  {
   "cell_type": "markdown",
   "id": "aa816f96",
   "metadata": {},
   "source": [
    "## The multi-word keywords can be created by the following method.\n",
    "\n",
    "   * ***Camel Case*** - In the camel case, each word or abbreviation in the middle of begins with a capital letter. There is no intervention of whitespace. For example - nameOfStudent, valueOfVaraible, etc.\n",
    "   * Pascal Case - It is the same as the Camel Case, but here the first word is also capital. For example - NameOfStudent, etc.\n",
    "   * Snake Case - In the snake case, Words are separated by the underscore. For example - name_of_student, etc.\n"
   ]
  },
  {
   "cell_type": "code",
   "execution_count": 60,
   "id": "28508390",
   "metadata": {},
   "outputs": [],
   "source": [
    "candelaTech = \"Candela tech\"\n",
    "Candelatech = \"Candela tech\"\n",
    "candela_tech = \"Candela tech\""
   ]
  },
  {
   "cell_type": "markdown",
   "id": "55adc369",
   "metadata": {},
   "source": [
    "## Keywords \n",
    "\n",
    "Keywords are the reserved words in Python. We cannot use a keyword as a variable name, function name or any other identifier."
   ]
  },
  {
   "cell_type": "code",
   "execution_count": 24,
   "id": "920c7780",
   "metadata": {
    "scrolled": false
   },
   "outputs": [
    {
     "name": "stdout",
     "output_type": "stream",
     "text": [
      "['False', 'None', 'True', 'and', 'as', 'assert', 'async', 'await', 'break', 'class', 'continue', 'def', 'del', 'elif', 'else', 'except', 'finally', 'for', 'from', 'global', 'if', 'import', 'in', 'is', 'lambda', 'nonlocal', 'not', 'or', 'pass', 'raise', 'return', 'try', 'while', 'with', 'yield']\n",
      "35\n"
     ]
    }
   ],
   "source": [
    "import keyword\n",
    "\n",
    "print(keyword.kwlist)\n",
    "# We will be exploring it in more details later \n",
    "print(len(keyword.kwlist))"
   ]
  },
  {
   "cell_type": "markdown",
   "id": "7db53a36",
   "metadata": {},
   "source": [
    "# <<====================== Session 04 =========================>>"
   ]
  },
  {
   "cell_type": "markdown",
   "id": "5663219e",
   "metadata": {},
   "source": [
    "# Python Data Types\n",
    "\n",
    "Variables can hold values, and every value has a data-type. Python is a dynamically typed language; hence we do not need to define the type of the variable while declaring it. The interpreter implicitly binds the value with its type."
   ]
  },
  {
   "cell_type": "code",
   "execution_count": 1,
   "id": "2215fba8",
   "metadata": {},
   "outputs": [
    {
     "name": "stdout",
     "output_type": "stream",
     "text": [
      "<class 'int'>\n",
      "<class 'str'>\n",
      "<class 'float'>\n"
     ]
    }
   ],
   "source": [
    "a = 10\n",
    "b=\"Hi Python\"\n",
    "c = 10.5\n",
    "print(type(a))\n",
    "print(type(b))\n",
    "print(type(c))"
   ]
  },
  {
   "cell_type": "markdown",
   "id": "b0c29c9a",
   "metadata": {},
   "source": [
    "## Standard data types\n",
    "\n",
    "    \n",
    "   * Numbers\n",
    "   * Sequence Type\n",
    "   * Boolean\n",
    "   * Set\n",
    "   * Dictionary\n"
   ]
  },
  {
   "cell_type": "markdown",
   "id": "41cb73fe",
   "metadata": {},
   "source": [
    "![Python Data Types](https://static.javatpoint.com/python/images/python-data-types.png)"
   ]
  },
  {
   "cell_type": "markdown",
   "id": "cd7e0be1",
   "metadata": {},
   "source": [
    "## Numbers\n",
    "   Number stores numeric values. The integer, float, and complex values belong to a Python Numbers data-type. Python provides the **type()** function to know the data-type of the variable. Similarly, the **isinstance()** function is used to check an object belongs to a particular class."
   ]
  },
  {
   "cell_type": "code",
   "execution_count": null,
   "id": "a505e0c9",
   "metadata": {},
   "outputs": [],
   "source": []
  },
  {
   "cell_type": "code",
   "execution_count": 11,
   "id": "f0774289",
   "metadata": {},
   "outputs": [
    {
     "name": "stdout",
     "output_type": "stream",
     "text": [
      "The type of a <class 'int'>\n"
     ]
    }
   ],
   "source": [
    "a = 5\n",
    "print(\"The type of a\", type(a))  "
   ]
  },
  {
   "cell_type": "code",
   "execution_count": 17,
   "id": "439757a0",
   "metadata": {},
   "outputs": [
    {
     "name": "stdout",
     "output_type": "stream",
     "text": [
      "The type of b <class 'int'>\n"
     ]
    }
   ],
   "source": [
    "b = 40 \n",
    "print(\"The type of b\", type(b))  "
   ]
  },
  {
   "cell_type": "code",
   "execution_count": 19,
   "id": "add10125",
   "metadata": {},
   "outputs": [
    {
     "name": "stdout",
     "output_type": "stream",
     "text": [
      "The type of b is  float : False\n"
     ]
    }
   ],
   "source": [
    "print(\"The type of b is  float :\", isinstance(b, float))"
   ]
  },
  {
   "cell_type": "code",
   "execution_count": 25,
   "id": "e9af205d",
   "metadata": {
    "scrolled": true
   },
   "outputs": [
    {
     "name": "stdout",
     "output_type": "stream",
     "text": [
      "The type of c <class 'complex'>\n"
     ]
    }
   ],
   "source": [
    "c = 5j+3\n",
    "\n",
    "print(\"The type of c\", type(c))  "
   ]
  },
  {
   "cell_type": "code",
   "execution_count": 26,
   "id": "1912c0d2",
   "metadata": {},
   "outputs": [
    {
     "name": "stdout",
     "output_type": "stream",
     "text": [
      " c is a complex number True\n"
     ]
    }
   ],
   "source": [
    "# using isinstance() function\n",
    "print(\" c is a complex number\", isinstance(1+3j,complex))  "
   ]
  },
  {
   "cell_type": "markdown",
   "id": "1ab97697",
   "metadata": {},
   "source": [
    "Python supports three types of numeric data.\n",
    "\n",
    "   * **Int** - Integer value can be any length such as integers 10, 2, 29, -20, -150 etc. Python has no restriction on the length of an integer. Its value belongs to int\n",
    "   * **Float** - Float is used to store floating-point numbers like 1.9, 9.902, 15.2, etc. It is accurate upto 15 decimal points.\n",
    "   * **complex** - A complex number contains an ordered pair, i.e., x + iy where x and y denote the real and imaginary parts, respectively. The complex numbers like 2.14j, 2.0 + 2.3j, etc.\n"
   ]
  },
  {
   "cell_type": "code",
   "execution_count": 28,
   "id": "f4861195",
   "metadata": {
    "scrolled": true
   },
   "outputs": [
    {
     "name": "stdout",
     "output_type": "stream",
     "text": [
      "14232492742984724982749832472984289472984120104248104296572489110389414724912424971209852897157239052759379237528937129074210971572567726656265285285725725626184619248186471492034010320918319010947128947182472857562746129189461829461429412\n"
     ]
    }
   ],
   "source": [
    "x = 14232492742984724982749832472984289472984120104248104296572489110389414724912424971209852897157239052759379237528937129074210971572567726656265285285725725626184619248186471492034010320918319010947128947182472857562746129189461829461429412\n",
    "print(x)"
   ]
  },
  {
   "cell_type": "markdown",
   "id": "6c247420",
   "metadata": {},
   "source": [
    "# Int type Conversion \n",
    "Decimal Form (Base-10)\n",
    "\n",
    "Binary Form (Base-2) ===> bin()\n",
    "\n",
    "Octal Form (Base-8) ====> oct()\n",
    "\n",
    "Hexa Decimal Form (Base-16) ====>hex()\n",
    "\n"
   ]
  },
  {
   "cell_type": "code",
   "execution_count": 32,
   "id": "e7f81a87",
   "metadata": {},
   "outputs": [
    {
     "name": "stdout",
     "output_type": "stream",
     "text": [
      "0b1101\n",
      "0o15\n",
      "0xd\n"
     ]
    }
   ],
   "source": [
    "# Example of above type conversion\n",
    "num = 13\n",
    "print(bin(num))\n",
    "print(oct(num))\n",
    "print(hex(num))\n"
   ]
  },
  {
   "cell_type": "code",
   "execution_count": 34,
   "id": "c7c7569a",
   "metadata": {},
   "outputs": [
    {
     "name": "stdout",
     "output_type": "stream",
     "text": [
      "18.124323423425235\n"
     ]
    }
   ],
   "source": [
    "x_float = 18.12432342342523523524324\n",
    "print(x_float)\n"
   ]
  },
  {
   "cell_type": "code",
   "execution_count": 38,
   "id": "a6bb8682",
   "metadata": {},
   "outputs": [
    {
     "name": "stdout",
     "output_type": "stream",
     "text": [
      "1200.0\n"
     ]
    }
   ],
   "source": [
    "f = 1.2e3\n",
    "print(f)"
   ]
  },
  {
   "cell_type": "markdown",
   "id": "ca9d2323",
   "metadata": {},
   "source": [
    "## Sequence Type\n",
    "   * String\n",
    "   * List\n",
    "   * Tuple"
   ]
  },
  {
   "cell_type": "markdown",
   "id": "ec3b7f83",
   "metadata": {},
   "source": [
    "### String \n",
    "The string can be defined as the sequence of characters represented in the quotation marks. In Python, we can use single, double, or triple quotes to define a string.\n",
    "\n",
    "String handling in Python is a straightforward task since Python provides built-in functions and operators to perform operations in the string.\n",
    "\n",
    "In the case of string handling, the operator + is used to concatenate two strings as the operation \"hello\"+\" python\" returns \"hello python\".\n",
    "\n",
    "The operator * is known as a repetition operator as the operation \"Python\" *2 returns 'Python Python'."
   ]
  },
  {
   "cell_type": "code",
   "execution_count": 41,
   "id": "9e689fa0",
   "metadata": {},
   "outputs": [
    {
     "name": "stdout",
     "output_type": "stream",
     "text": [
      "string using double quotes\n",
      "Candela\n",
      "Candela is a \n",
      "Wi-Fi Company\n"
     ]
    }
   ],
   "source": [
    "str = \"string using double quotes\"  \n",
    "str1 = 'Candela'\n",
    "str2 = \"\"\"Candela is a \n",
    "    Wi-Fi Company\"\"\"\n",
    "print(str)\n",
    "print(str1)\n",
    "print(str2)"
   ]
  },
  {
   "cell_type": "code",
   "execution_count": 14,
   "id": "04ef2e67",
   "metadata": {
    "scrolled": true
   },
   "outputs": [
    {
     "name": "stdout",
     "output_type": "stream",
     "text": [
      "A multiline \n",
      "string\n"
     ]
    }
   ],
   "source": [
    "s = '''A multiline \n",
    "string'''  \n",
    "print(s)  "
   ]
  },
  {
   "cell_type": "code",
   "execution_count": 46,
   "id": "9a9e60c5",
   "metadata": {},
   "outputs": [
    {
     "name": "stdout",
     "output_type": "stream",
     "text": [
      "Hello Candela\n"
     ]
    }
   ],
   "source": [
    "h = \"Hello \" + \"Candela\"\n",
    "print(h)"
   ]
  },
  {
   "cell_type": "code",
   "execution_count": 49,
   "id": "d913702a",
   "metadata": {
    "scrolled": true
   },
   "outputs": [
    {
     "name": "stdout",
     "output_type": "stream",
     "text": [
      "CandelaCandelaCandelaCandelaCandelaCandelaCandelaCandelaCandelaCandelaCandelaCandelaCandelaCandelaCandelaCandelaCandelaCandelaCandelaCandela\n"
     ]
    }
   ],
   "source": [
    "name = \"Candela\"\n",
    "print(name*20)"
   ]
  },
  {
   "cell_type": "code",
   "execution_count": 50,
   "id": "24e207a3",
   "metadata": {
    "scrolled": false
   },
   "outputs": [
    {
     "name": "stdout",
     "output_type": "stream",
     "text": [
      "Candela Technologies\n"
     ]
    }
   ],
   "source": [
    "print (name + \" Technologies\") #printing the concatenation of name and string    "
   ]
  },
  {
   "cell_type": "code",
   "execution_count": 51,
   "id": "02c64041",
   "metadata": {
    "scrolled": true
   },
   "outputs": [
    {
     "name": "stdout",
     "output_type": "stream",
     "text": [
      "Candela Technologies\n"
     ]
    }
   ],
   "source": [
    "print (name, \"Technologies\")"
   ]
  },
  {
   "cell_type": "code",
   "execution_count": 53,
   "id": "d1bb3afa",
   "metadata": {},
   "outputs": [
    {
     "name": "stdout",
     "output_type": "stream",
     "text": [
      "Hello 1\n"
     ]
    }
   ],
   "source": [
    "print(\"Hello\", 1)"
   ]
  },
  {
   "cell_type": "markdown",
   "id": "2f75a107",
   "metadata": {},
   "source": [
    "# Slicing of Strings\n",
    "1. slice means a piece\n",
    "2. [] operator is called slice operator, which can be used to retrieve parts of String.\n",
    "3. In Python Strings follows zero based index.\n",
    "4. The index can be either +ve or -ve.\n",
    "5. +ve index means forward direction from Left to Right\n",
    "6. -ve index means backward direction from Right to Left"
   ]
  },
  {
   "cell_type": "code",
   "execution_count": 57,
   "id": "6111fe45",
   "metadata": {
    "scrolled": false
   },
   "outputs": [
    {
     "name": "stdout",
     "output_type": "stream",
     "text": [
      "hello Candela Gu\n",
      "o\n"
     ]
    }
   ],
   "source": [
    "str1 = 'hello Candela Guys' #string str1    \n",
    "str2 = 'how are you' #string str2    \n",
    "print (str1[0:-2]) #printing first two character using slice operator    \n",
    "print (str1[4]) #printing 4th character of the string    "
   ]
  },
  {
   "cell_type": "code",
   "execution_count": null,
   "id": "c922a7c7",
   "metadata": {},
   "outputs": [],
   "source": []
  },
  {
   "cell_type": "code",
   "execution_count": 77,
   "id": "6348f325",
   "metadata": {
    "scrolled": false
   },
   "outputs": [
    {
     "name": "stdout",
     "output_type": "stream",
     "text": [
      "Candela\n"
     ]
    }
   ],
   "source": [
    "str1 = 'hello Candela Guys'\n",
    "print(str1[6:13])"
   ]
  },
  {
   "cell_type": "markdown",
   "id": "55a2fa0b",
   "metadata": {},
   "source": [
    "# TASK\n",
    "## Guys ===> syuG"
   ]
  },
  {
   "cell_type": "code",
   "execution_count": 80,
   "id": "25bf6af3",
   "metadata": {},
   "outputs": [
    {
     "name": "stdout",
     "output_type": "stream",
     "text": [
      "\n"
     ]
    }
   ],
   "source": [
    "print(str1[14:18:-1])"
   ]
  },
  {
   "cell_type": "code",
   "execution_count": 81,
   "id": "45a853e3",
   "metadata": {
    "scrolled": true
   },
   "outputs": [
    {
     "name": "stdout",
     "output_type": "stream",
     "text": [
      "syuG alednaC olleh\n"
     ]
    }
   ],
   "source": [
    "# Magic\n",
    "print(str1[::-1])"
   ]
  },
  {
   "cell_type": "markdown",
   "id": "c88550be",
   "metadata": {},
   "source": [
    "# Escape Characters\n"
   ]
  },
  {
   "cell_type": "markdown",
   "id": "66335106",
   "metadata": {},
   "source": [
    "1. \\n ==> New Line\n",
    "2. \\t ==> Horizontal Tab\n",
    "3. \\r ==> Carriage Return\n",
    "4. \\b ==> Back Space\n",
    "5. \\f ==> Form Feed\n",
    "6. \\v ==> Vertical Tab\n",
    "7. \\' ==> Single Quote\n",
    "8. \\\" ==> Double Quote\n",
    "9. \\\\ ==> Back Slash Symbol\n",
    " \n",
    " * ............\n",
    " * ............\n"
   ]
  },
  {
   "cell_type": "code",
   "execution_count": 16,
   "id": "f8552225",
   "metadata": {},
   "outputs": [
    {
     "name": "stdout",
     "output_type": "stream",
     "text": [
      "Candela \n",
      "Technologies\n"
     ]
    }
   ],
   "source": [
    "print(\"Candela \\nTechnologies\")"
   ]
  },
  {
   "cell_type": "markdown",
   "id": "ff4f9846",
   "metadata": {},
   "source": [
    "### List\n",
    "\n",
    "Python Lists are similar to arrays in C. However, the list can contain data of different types. The items stored in the list are separated with a comma (,) and enclosed within square brackets [].\n",
    "\n",
    "We can use slice [:] operators to access the data of the list. The concatenation operator (+) and repetition operator (*) works with the list in the same way as they were working with the strings."
   ]
  },
  {
   "cell_type": "markdown",
   "id": "bb933a1c",
   "metadata": {},
   "source": [
    "## List inBuilt Functions"
   ]
  },
  {
   "cell_type": "code",
   "execution_count": 12,
   "id": "17af570d",
   "metadata": {
    "scrolled": false
   },
   "outputs": [
    {
     "name": "stdout",
     "output_type": "stream",
     "text": [
      "[12, 12, 32, 34, 54, 56, 6]\n"
     ]
    }
   ],
   "source": [
    "lst = [12,12,32,34,54,56,6]\n",
    "print(lst)"
   ]
  },
  {
   "cell_type": "code",
   "execution_count": null,
   "id": "3c5f3cf7",
   "metadata": {},
   "outputs": [],
   "source": [
    "lst.append(12)\n",
    "lst.pop()\n",
    "lst.insert(0,2)\n",
    "lst.extend([])"
   ]
  },
  {
   "cell_type": "code",
   "execution_count": null,
   "id": "8f9f4865",
   "metadata": {},
   "outputs": [],
   "source": []
  },
  {
   "cell_type": "code",
   "execution_count": null,
   "id": "9b551856",
   "metadata": {},
   "outputs": [],
   "source": []
  },
  {
   "cell_type": "code",
   "execution_count": null,
   "id": "02863796",
   "metadata": {},
   "outputs": [],
   "source": []
  },
  {
   "cell_type": "code",
   "execution_count": 90,
   "id": "dfdd3cb4",
   "metadata": {},
   "outputs": [
    {
     "name": "stdout",
     "output_type": "stream",
     "text": [
      "<class 'list'>\n",
      "[1, 'hi', 'Python', 2]\n",
      "[2]\n",
      "[1, 'hi']\n",
      "[1, 'hi', 'Python', 2, 1, 'hi', 'Python', 2]\n",
      "[1, 'hi', 'Python', 2, 1, 'hi', 'Python', 2, 1, 'hi', 'Python', 2]\n"
     ]
    }
   ],
   "source": [
    "list1  = [1, \"hi\", \"Python\", 2]    \n",
    "#Checking type of given list  \n",
    "print(type(list1))  \n",
    "\n",
    "#Printing the list1  \n",
    "print (list1)  \n",
    "\n",
    "# List slicing  \n",
    "print (list1[3:])  \n",
    "\n",
    "# List slicing  \n",
    "print (list1[0:2])   \n",
    "\n",
    "# List Concatenation using + operator  \n",
    "print (list1 + list1)  \n",
    "\n",
    "# List repetation using * operator  \n",
    "print (list1 * 3)"
   ]
  },
  {
   "cell_type": "markdown",
   "id": "ae1811f5",
   "metadata": {},
   "source": [
    "### Tuple\n",
    "\n",
    "A tuple is similar to the list in many ways. Like lists, tuples also contain the collection of the items of different data types. The items of the tuple are separated with a comma (,) and enclosed in parentheses ().\n",
    "\n",
    "A tuple is a read-only data structure as we can't modify the size and value of the items of a tuple."
   ]
  },
  {
   "cell_type": "code",
   "execution_count": 91,
   "id": "7aa2078d",
   "metadata": {},
   "outputs": [
    {
     "name": "stdout",
     "output_type": "stream",
     "text": [
      "<class 'tuple'>\n",
      "('hi', 'Python', 2)\n",
      "('Python', 2)\n",
      "('hi',)\n",
      "('hi', 'Python', 2, 'hi', 'Python', 2)\n",
      "('hi', 'Python', 2, 'hi', 'Python', 2, 'hi', 'Python', 2)\n"
     ]
    }
   ],
   "source": [
    "tup  = (\"hi\", \"Python\", 2)    \n",
    "# Checking type of tup  \n",
    "print (type(tup))    \n",
    "\n",
    "#Printing the tuple  \n",
    "print (tup)  \n",
    "\n",
    "# Tuple slicing  \n",
    "print (tup[1:])    \n",
    "print (tup[0:1])    \n",
    "\n",
    "# Tuple concatenation using + operator  \n",
    "print (tup + tup)    \n",
    "\n",
    "# Tuple repatation using * operator  \n",
    "print (tup * 3)     \n",
    "\n",
    "# Adding value to tup. It will throw an error.  \n",
    "# tup[2] = \"hi\"  "
   ]
  },
  {
   "cell_type": "markdown",
   "id": "25294756",
   "metadata": {},
   "source": [
    "## Dictionary\n",
    "\n",
    "Dictionary is an unordered set of a key-value pair of items. It is like an associative array or a hash table where each key stores a specific value. Key can hold any primitive data type, whereas value is an arbitrary Python object.\n",
    "\n",
    "The items in the dictionary are separated with the comma (,) and enclosed in the curly braces {}."
   ]
  },
  {
   "cell_type": "code",
   "execution_count": 92,
   "id": "d89db56e",
   "metadata": {
    "scrolled": true
   },
   "outputs": [
    {
     "name": "stdout",
     "output_type": "stream",
     "text": [
      "{1: 'Jimmy', 2: 'Alex', 3: 'john', 4: 'mike'}\n",
      "1st name is Jimmy\n",
      "2nd name is mike\n",
      "dict_keys([1, 2, 3, 4])\n",
      "dict_values(['Jimmy', 'Alex', 'john', 'mike'])\n"
     ]
    }
   ],
   "source": [
    "d = {1:'Jimmy', 2:'Alex', 3:'john', 4:'mike'}     \n",
    "\n",
    "# Printing dictionary  \n",
    "print (d)  \n",
    "\n",
    "# Accesing value using keys  \n",
    "print(\"1st name is \"+d[1])   \n",
    "print(\"2nd name is \"+ d[4])    \n",
    "\n",
    "print (d.keys())    \n",
    "print (d.values())    "
   ]
  },
  {
   "cell_type": "markdown",
   "id": "349d349b",
   "metadata": {},
   "source": [
    "## Boolean\n",
    "\n",
    "Boolean type provides two built-in values, True and False. These values are used to determine the given statement true or false. It denotes by the class bool. True can be represented by any non-zero value or 'T' whereas false can be represented by the 0 or 'F'."
   ]
  },
  {
   "cell_type": "code",
   "execution_count": 93,
   "id": "26d8597c",
   "metadata": {},
   "outputs": [
    {
     "name": "stdout",
     "output_type": "stream",
     "text": [
      "<class 'bool'>\n",
      "<class 'bool'>\n"
     ]
    },
    {
     "ename": "NameError",
     "evalue": "name 'false' is not defined",
     "output_type": "error",
     "traceback": [
      "\u001b[0;31m---------------------------------------------------------------------------\u001b[0m",
      "\u001b[0;31mNameError\u001b[0m                                 Traceback (most recent call last)",
      "\u001b[0;32m/tmp/ipykernel_104503/1738061732.py\u001b[0m in \u001b[0;36m<module>\u001b[0;34m\u001b[0m\n\u001b[1;32m      2\u001b[0m \u001b[0mprint\u001b[0m\u001b[0;34m(\u001b[0m\u001b[0mtype\u001b[0m\u001b[0;34m(\u001b[0m\u001b[0;32mTrue\u001b[0m\u001b[0;34m)\u001b[0m\u001b[0;34m)\u001b[0m\u001b[0;34m\u001b[0m\u001b[0;34m\u001b[0m\u001b[0m\n\u001b[1;32m      3\u001b[0m \u001b[0mprint\u001b[0m\u001b[0;34m(\u001b[0m\u001b[0mtype\u001b[0m\u001b[0;34m(\u001b[0m\u001b[0;32mFalse\u001b[0m\u001b[0;34m)\u001b[0m\u001b[0;34m)\u001b[0m\u001b[0;34m\u001b[0m\u001b[0;34m\u001b[0m\u001b[0m\n\u001b[0;32m----> 4\u001b[0;31m \u001b[0mprint\u001b[0m\u001b[0;34m(\u001b[0m\u001b[0mfalse\u001b[0m\u001b[0;34m)\u001b[0m\u001b[0;34m\u001b[0m\u001b[0;34m\u001b[0m\u001b[0m\n\u001b[0m",
      "\u001b[0;31mNameError\u001b[0m: name 'false' is not defined"
     ]
    }
   ],
   "source": [
    "# Python program to check the boolean type  \n",
    "print(type(True))  \n",
    "print(type(False))  \n",
    "print(false)  "
   ]
  },
  {
   "cell_type": "markdown",
   "id": "83c4c3e7",
   "metadata": {},
   "source": [
    "## Set\n",
    "\n",
    "Python Set is the unordered collection of the data type. It is iterable, mutable(can modify after creation), and has unique elements. In set, the order of the elements is undefined; it may return the changed sequence of the element. The set is created by using a built-in function set(), or a sequence of elements is passed in the curly braces and separated by the comma. It can contain various types of values."
   ]
  },
  {
   "cell_type": "code",
   "execution_count": 19,
   "id": "742d0106",
   "metadata": {
    "scrolled": false
   },
   "outputs": [
    {
     "name": "stdout",
     "output_type": "stream",
     "text": [
      "{'James', 2, 3, 'Python'}\n",
      "{2, 3, 'Python', 10, 'James'}\n",
      "{3, 'Python', 10, 'James'}\n"
     ]
    }
   ],
   "source": [
    "# Creating Empty set  \n",
    "set1 = set()  \n",
    "\n",
    "set2 = {'James', 2, 3,'Python'}  \n",
    "\n",
    "#Printing Set value  \n",
    "print(set2)  \n",
    "\n",
    "# Adding element to the set  \n",
    "\n",
    "set2.add(10)  \n",
    "print(set2)\n",
    "\n",
    "#Removing element from the set  \n",
    "set2.remove(2)  \n",
    "print(set2)  "
   ]
  },
  {
   "cell_type": "markdown",
   "id": "90df0352",
   "metadata": {},
   "source": [
    "# Exercise for Practice"
   ]
  },
  {
   "cell_type": "code",
   "execution_count": null,
   "id": "0693f1e8",
   "metadata": {},
   "outputs": [],
   "source": []
  },
  {
   "cell_type": "markdown",
   "id": "07ebd663",
   "metadata": {},
   "source": [
    "####    1. Python program to add two numbers\n",
    "####    2. Maximum of two numbers in Python\n",
    "####    3. Python Program for factorial of a number\n",
    "####    4. Python Program for simple interest\n",
    "####    5. Python Program for compound interest\n",
    "####    6. Python Program to check Armstrong Number\n",
    "####    7. Python Program for Program to find area of a circle\n",
    "####    8. Python program to print all Prime numbers in an Interval\n",
    "####    9. Python program to check whether a number is Prime or not\n",
    "####    10. Python Program for n-th Fibonacci number\n",
    "####    11. Python Program for How to check if a given number is Fibonacci number?\n",
    "####    12. Python Program for n\\’th multiple of a number in Fibonacci Series\n",
    "####    13. Program to print ASCII Value of a character\n",
    "####    14. Python Program for Sum of squares of first n natural numbers\n",
    "####    15. Python Program for cube sum of first n natural numbers"
   ]
  },
  {
   "cell_type": "markdown",
   "id": "b84a9734",
   "metadata": {},
   "source": [
    "# Exercise 1"
   ]
  },
  {
   "cell_type": "code",
   "execution_count": 7,
   "id": "af48ee77",
   "metadata": {},
   "outputs": [
    {
     "name": "stdout",
     "output_type": "stream",
     "text": [
      "Enter the input number1 32\n",
      "Enter the input number2 34\n",
      "The sum of the input is  66\n"
     ]
    }
   ],
   "source": [
    "# Take input\n",
    "number1 = int(input(\"Enter the input number1 \"))\n",
    "number2 = int(input(\"Enter the input number2 \"))\n",
    "sum = number1 + number2\n",
    "print(\"The sum of the input is\", sum)"
   ]
  },
  {
   "cell_type": "markdown",
   "id": "9a2011a9",
   "metadata": {},
   "source": [
    "# Exercise 2"
   ]
  },
  {
   "cell_type": "code",
   "execution_count": 12,
   "id": "1b2acf12",
   "metadata": {},
   "outputs": [
    {
     "name": "stdout",
     "output_type": "stream",
     "text": [
      "Enter the input number1 22\n",
      "Enter the input number2 22\n",
      "Both the numbers are equal\n"
     ]
    }
   ],
   "source": [
    "number1 = int(input(\"Enter the input number1 \"))\n",
    "number2 = int(input(\"Enter the input number2 \"))\n",
    "if number1 > number2:\n",
    "    print(\"The max number is:\",number1)\n",
    "elif number1 == number2:\n",
    "    print(\"Both the numbers are equal\")\n",
    "else:\n",
    "    print(\"The max number is:\",number2)\n",
    "\n",
    "# print(max(number1, number2))"
   ]
  },
  {
   "cell_type": "markdown",
   "id": "c63c7202",
   "metadata": {},
   "source": [
    "# Exercise 3"
   ]
  },
  {
   "cell_type": "code",
   "execution_count": 25,
   "id": "60a43f34",
   "metadata": {
    "scrolled": true
   },
   "outputs": [
    {
     "name": "stdout",
     "output_type": "stream",
     "text": [
      "Enter the input number 4\n",
      "Factorial of the Input is 24\n"
     ]
    }
   ],
   "source": [
    "# Meaning of Factorial \n",
    "# Number = x\n",
    "# x*(x-1)*(x-2)*(x-3)*........(1)\n",
    "# 0 = 1\n",
    "\n",
    "# for loop\n",
    "# while loop\n",
    "\n",
    "number = int(input(\"Enter the input number \"))\n",
    "if number == 0:\n",
    "    print(1)\n",
    "else:\n",
    "    fact = 1\n",
    "    for i in range(1, number+1):\n",
    "        fact = fact * i\n",
    "    print(\"Factorial of the Input is\",fact)\n",
    " \n",
    "# fact = 1\n",
    "# while number>1:\n",
    "#     decremet the number \n",
    "#     multiply it with number"
   ]
  },
  {
   "cell_type": "markdown",
   "id": "a0088183",
   "metadata": {},
   "source": [
    "# Exercise 6"
   ]
  },
  {
   "cell_type": "code",
   "execution_count": 41,
   "id": "ab85878b",
   "metadata": {
    "scrolled": false
   },
   "outputs": [
    {
     "name": "stdout",
     "output_type": "stream",
     "text": [
      "Enter the input number 153\n",
      "Yes\n"
     ]
    }
   ],
   "source": [
    "number = input(\"Enter the input number \")\n",
    "lst = list(number)\n",
    "# print(lst)\n",
    "temp = 0\n",
    "for i in lst:\n",
    "    temp = temp + int(i)**len(number)\n",
    "if temp == int(number):\n",
    "    print(\"Yes\")\n",
    "else:\n",
    "    print(\"No\")"
   ]
  },
  {
   "cell_type": "code",
   "execution_count": 32,
   "id": "3df5d929",
   "metadata": {},
   "outputs": [
    {
     "data": {
      "text/plain": [
       "16"
      ]
     },
     "execution_count": 32,
     "metadata": {},
     "output_type": "execute_result"
    }
   ],
   "source": [
    "2**4"
   ]
  },
  {
   "cell_type": "markdown",
   "id": "94ade5e6",
   "metadata": {},
   "source": [
    "# Deep dive in Python Keywords\n",
    "\n",
    "Python Keywords are special reserved words that convey a special meaning to the compiler/interpreter. Each keyword has a special meaning and a specific operation. These keywords can't be used as a variable."
   ]
  },
  {
   "cell_type": "code",
   "execution_count": 95,
   "id": "a7d0dfde",
   "metadata": {},
   "outputs": [
    {
     "name": "stdout",
     "output_type": "stream",
     "text": [
      "['False', 'None', 'True', 'and', 'as', 'assert', 'async', 'await', 'break', 'class', 'continue', 'def', 'del', 'elif', 'else', 'except', 'finally', 'for', 'from', 'global', 'if', 'import', 'in', 'is', 'lambda', 'nonlocal', 'not', 'or', 'pass', 'raise', 'return', 'try', 'while', 'with', 'yield']\n"
     ]
    }
   ],
   "source": [
    "import keyword\n",
    "print(keyword.kwlist)"
   ]
  },
  {
   "cell_type": "markdown",
   "id": "4ee1a56a",
   "metadata": {},
   "source": [
    "## Keywords Details\n",
    "\n",
    "1. **False** - It represents the Boolean false; if the given condition is false, then it returns \"False\". Zero value is treated as false\n",
    "\n",
    "2. **None** - It denotes the null value or void. An empty list or Zero can't be treated as None.\n",
    "\n",
    "3. **True** - It represents the Boolean true, if the given condition is true, then it returns \"True\". Non-zero values are treated as true.\n",
    "\n",
    "4. **and** - It is a logical operator. It is used to check the multiple conditions. It returns true if both conditions are true. Consider the following truth table.\n",
    "\n",
    "5. **or** - It is a logical operator in Python. It returns true if one of the conditions is true. Consider the following truth table.\n",
    "\n",
    "6. **not** - It is a logical operator and inverts the truth value. Consider the following truth table.\n",
    "\n",
    "7. **assert** - This keyword is used as the debugging tool in Python. It checks the correctness of the code. It raises an AssertionError if found any error in the code and also prints the message with an error.\n",
    "\n",
    "8. **def** - This keyword is used to declare the function in Python. If followed by the function name.\n",
    "\n",
    "9. **class** - It is used to represents the class in Python. The class is the blueprint of the objects. It is the collection of the variable and methods. Consider the following class.\n",
    "\n",
    "10. **continue** - It is used to stop the execution of the current iteration.\n",
    "\n",
    "11. **break** - It is used to terminate the loop execution and control transfer to the end of the loop. \n",
    "\n",
    "12. **If** - It is used to represent the conditional statement. The execution of a particular block is decided by if statement.\n",
    "\n",
    "13. **else** - The else statement is used with the if statement. When if statement returns false, then else block is executed. Consider the following example.\n",
    "\n",
    "14. **elif** - This Keyword is used to check the multiple conditions. It is short for else-if. If the previous condition is false, then check until the true condition is found. Condition the following example.\n",
    "\n",
    "15. **del** - It is used to delete the reference of the object. Consider the following example.\n",
    "\n",
    "16. **try, except** - The try-except is used to handle the exceptions. The exceptions are run-time errors. Consider the following example.\n",
    "\n",
    "17. **raise** - The raise keyword is used to through the exception forcefully. Consider the following example.\n",
    "\n",
    "18. **finally** - The finally keyword is used to create a block of code that will always be executed no matter the else block raises an error or not. Consider the following example.\n",
    "\n",
    "19. **for, while** - Both keywords are used for iteration. The for keyword is used to iterate over the sequences (list, tuple, dictionary, string). A while loop is executed until the condition returns false. Consider the following example.\n",
    "\n",
    "20. **import** - The import keyword is used to import modules in the current Python script. The module contains a runnable Python code.\n",
    "\n",
    "21. **from** - This keyword is used to import the specific function or attributes in the current Python script.\n",
    "\n",
    "22. **as** - It is used to create a name alias. It provides the user-define name while importing a module.\n",
    "\n",
    "23. **pass** - The pass keyword is used to execute nothing or create a placeholder for future code. If we declare an empty class or function, it will through an error, so we use the pass keyword to declare an empty class or function.\n",
    "\n",
    "\n",
    "24. **return** - The return keyword is used to return the result value or none to called function.\n",
    "\n",
    "25. **is** - This keyword is used to check if the two-variable refers to the same object. It returns the true if they refer to the same object otherwise false. Consider the following example.\n",
    "\n",
    "\n",
    "26. **global** - The global keyword is used to create a global variable inside the function. Any function can access the global. Consider the following example.\n",
    "\n",
    "27. **nonlocal** - The nonlocal is similar to the global and used to work with a variable inside the nested function(function inside a function). Consider the following example.\n",
    "\n",
    "28. **lambda** - The lambda keyword is used to create the anonymous function in Python. It is an inline function without a name. Consider the following example.\n",
    "\n",
    "29. **yield** - The yield keyword is used with the Python generator. It stops the function's execution and returns value to the caller. Consider the following example.\n",
    "\n",
    "\n",
    "30. **with** - The with keyword is used in the exception handling. It makes code cleaner and more readable. The advantage of using with, we don't need to call close(). Consider the following example.\n",
    "\n",
    "\n",
    "31. **None** - The None keyword is used to define the null value. It is remembered that None does not indicate 0, false, or any empty data-types. It is an object of its data type, which is Consider the following example.\n",
    "\n"
   ]
  },
  {
   "cell_type": "code",
   "execution_count": null,
   "id": "9440e51d",
   "metadata": {},
   "outputs": [],
   "source": []
  },
  {
   "cell_type": "code",
   "execution_count": null,
   "id": "86e8bfba",
   "metadata": {},
   "outputs": [],
   "source": []
  },
  {
   "cell_type": "code",
   "execution_count": null,
   "id": "3deb6a8a",
   "metadata": {},
   "outputs": [],
   "source": []
  },
  {
   "cell_type": "code",
   "execution_count": null,
   "id": "63dd30dd",
   "metadata": {},
   "outputs": [],
   "source": []
  },
  {
   "cell_type": "code",
   "execution_count": null,
   "id": "75bfa32d",
   "metadata": {},
   "outputs": [],
   "source": []
  }
 ],
 "metadata": {
  "kernelspec": {
   "display_name": "Python 3 (ipykernel)",
   "language": "python",
   "name": "python3"
  },
  "language_info": {
   "codemirror_mode": {
    "name": "ipython",
    "version": 3
   },
   "file_extension": ".py",
   "mimetype": "text/x-python",
   "name": "python",
   "nbconvert_exporter": "python",
   "pygments_lexer": "ipython3",
   "version": "3.8.10"
  }
 },
 "nbformat": 4,
 "nbformat_minor": 5
}
